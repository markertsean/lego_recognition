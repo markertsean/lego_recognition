{
 "cells": [
  {
   "cell_type": "code",
   "execution_count": 2,
   "metadata": {
    "collapsed": true
   },
   "outputs": [],
   "source": [
    "import numpy as np\n",
    "import pandas as pd"
   ]
  },
  {
   "cell_type": "code",
   "execution_count": 3,
   "metadata": {
    "collapsed": true
   },
   "outputs": [],
   "source": [
    "useable_blocks = [\n",
    "                    'plate_1x1' ,\n",
    "                    'plate_1x2' ,\n",
    "                    'plate_1x3' ,\n",
    "                    'plate_1x4' ,\n",
    "                    'plate_1x6' ,\n",
    "                    'plate_1x8' ,\n",
    "                    'plate_1x10',\n",
    "                    'plate_2x2' ,\n",
    "                    'plate_2x3' ,\n",
    "                    'plate_2x4' ,\n",
    "                    'plate_2x6' ,\n",
    "                    'plate_2x8' ,\n",
    "                    'plate_2x12',\n",
    "                    'plate_4x4' ,\n",
    "                    'plate_4x6' ,\n",
    "                    'plate_4x8' ,\n",
    "                    'plate_6x6' ,\n",
    "                    'plate_6x8' ,\n",
    "                    'plate_6x10',\n",
    "                    'plate_8x8' ,\n",
    "                    'brick_1x1' ,\n",
    "                    'brick_1x2' ,\n",
    "                    'brick_1x3' ,\n",
    "                    'brick_1x4' ,\n",
    "                    'brick_1x6' ,\n",
    "                    'brick_1x8' ,\n",
    "                    'brick_2x2' ,\n",
    "                    'brick_2x3' ,\n",
    "                    'brick_2x4' ,\n",
    "                    'brick_2x6' ,\n",
    "                 ]"
   ]
  },
  {
   "cell_type": "code",
   "execution_count": 4,
   "metadata": {
    "collapsed": false
   },
   "outputs": [],
   "source": [
    "set_df  = pd.read_csv('data/lego_set_parts.csv'      ).drop(['Unnamed: 0'],axis=1)\n",
    "part_df = pd.read_csv('data/individual_set_parts.csv').drop(['Unnamed: 0'],axis=1)\n",
    "info_df = pd.read_csv('data/set_name_url.csv'        ).drop(['Unnamed: 0'],axis=1)"
   ]
  },
  {
   "cell_type": "code",
   "execution_count": 5,
   "metadata": {
    "collapsed": true
   },
   "outputs": [],
   "source": [
    "# Let's make up some test case data:\n",
    "\n",
    "test_1 = \\\n",
    "{\n",
    "    'plate_1x3':5,\n",
    "    'plate_2x2':5,\n",
    "    'plate_4x4':5,\n",
    "    'brick_1x4':5,\n",
    "    'brick_2x4':5,\n",
    "}\n",
    "\n",
    "test_2 = \\\n",
    "{\n",
    "    'plate_1x3':1,\n",
    "    'plate_2x2':3,\n",
    "    'plate_4x4':2,\n",
    "    'brick_1x4':3,\n",
    "    'brick_2x4':8,    \n",
    "}\n",
    "\n",
    "test_3 = \\\n",
    "{\n",
    "    'plate_1x3':7,\n",
    "    'brick_2x4':5,        \n",
    "}\n",
    "\n",
    "test_4 = \\\n",
    "{\n",
    "    'brick_2x6':3,\n",
    "}"
   ]
  },
  {
   "cell_type": "code",
   "execution_count": 11,
   "metadata": {
    "collapsed": false
   },
   "outputs": [],
   "source": [
    "def select_valid_sets(\n",
    "                        inp_dict,\n",
    "                     ):\n",
    "    \n",
    "    possible_set_df = set_df.copy()\n",
    "    \n",
    "    # First select where we don't have too many of the known pieces\n",
    "    for key in inp_dict.keys():\n",
    "        possible_set_df = possible_set_df[ \n",
    "                                            ( possible_set_df[key] <= inp_dict[key] ) \n",
    "                                         ]\n",
    "        \n",
    "    # The number of parts from the set we have\n",
    "    # Add this as a column\n",
    "    possible_set_df['n_have'] = possible_set_df[inp_dict.keys()].sum( axis=1 )\n",
    "\n",
    "    \n",
    "    # Then select to make sure we have at least 1 of the known pieces\n",
    "    possible_set_df = possible_set_df[\n",
    "                                        ( possible_set_df['n_have'] > 0 )\n",
    "                                     ]\n",
    "    \n",
    "    # Calculate number of parts needed, and fraction had\n",
    "    possible_set_df['n_needed' ] = possible_set_df['n_parts'] - possible_set_df['n_have' ]\n",
    "    possible_set_df['frac_have'] = possible_set_df['n_have' ] / possible_set_df['n_parts'].astype(float)\n",
    "    \n",
    "    return possible_set_df[\n",
    "                            ['set_id','set_name','set_url','frac_have','n_parts','n_have','n_needed',]+inp_dict.keys()\n",
    "                          ].sort_values( ['frac_have','n_parts','n_have'],ascending=[False,True,False]).head(20)\n",
    "    \n",
    "    \n",
    "# Can modify this later\n",
    "# For now, just take the best\n",
    "#  when sorted by fraction we\n",
    "#  have, and the number of parts\n",
    "def return_rec_set(\n",
    "                    inp_df,\n",
    "                  ):\n",
    "    \n",
    "    ind = inp_df.index.values[0]\n",
    "    out_df = inp_df.loc[ind].copy()\n",
    "    new_ind = info_df['set_id'] == out_df['set_id']\n",
    "    out_df['set_name'] = info_df.loc[ new_ind, 'set_title'].values[0]\n",
    "    out_df['set_url' ] = info_df.loc[ new_ind, 'set_url'  ].values[0]\n",
    "    return out_df\n",
    "    \n",
    "def get_needed_parts(\n",
    "                        rec_set,\n",
    "                        all_part_df,\n",
    "                        part_dict,\n",
    "                    ):\n",
    "    set_id = rec_set['set_id']\n",
    "    \n",
    "    set_part_df = all_part_df[ all_part_df['set_id'] == set_id ]\n",
    "    \n",
    "    # Get list of all the bricks in the set, and all the plates\n",
    "    brick_list  = [ block for block in set_part_df['part_name'].unique() if ( ('Brick' in block) and ( len(block) < 11 ) ) ]\n",
    "    plate_list  = [ block for block in set_part_df['part_name'].unique() if ( ('Plate' in block) and ( len(block) < 11 ) ) ]\n",
    "    other_list  = [ block for block in set_part_df['part_name'].unique() if ( \n",
    "                                                                            ( block not in brick_list ) and \n",
    "                                                                            ( block not in plate_list ) ) ]\n",
    "    \n",
    "    parts_needed = {}\n",
    "    parts_have   = {}\n",
    "    \n",
    "    for part in other_list:\n",
    "        parts_needed[part] = set_part_df.loc[ set_part_df['part_name']==part ]['quantity'].values[0]\n",
    "        \n",
    "    for part_list in [brick_list,plate_list]:\n",
    "        for part in part_list:\n",
    "            parts_have[part] = set_part_df.loc[ set_part_df['part_name']==part ]['quantity'].values[0]\n",
    "    \n",
    "    print parts_needed\n",
    "    print parts_have\n",
    "            \n",
    "part_dict = test_1\n",
    "poss_sets = select_valid_sets( part_dict )\n",
    "rec_set   = return_rec_set( poss_sets )\n",
    "#req_parts = get_needed_parts( rec_set, part_df, part_dict )"
   ]
  },
  {
   "cell_type": "code",
   "execution_count": 12,
   "metadata": {
    "collapsed": false
   },
   "outputs": [
    {
     "data": {
      "text/plain": [
       "set_id                                  60000-1\n",
       "set_name               60000-1: Fire Motorcycle\n",
       "set_url      https://brickset.com/sets/60000-1/\n",
       "frac_have                              0.153846\n",
       "n_parts                                      39\n",
       "n_have                                        6\n",
       "n_needed                                     33\n",
       "plate_2x2                                     0\n",
       "plate_4x4                                     1\n",
       "plate_1x3                                     0\n",
       "brick_1x4                                     5\n",
       "brick_2x4                                     0\n",
       "Name: 230, dtype: object"
      ]
     },
     "execution_count": 12,
     "metadata": {},
     "output_type": "execute_result"
    }
   ],
   "source": [
    "rec_set"
   ]
  },
  {
   "cell_type": "code",
   "execution_count": 8,
   "metadata": {
    "collapsed": false
   },
   "outputs": [
    {
     "data": {
      "text/html": [
       "<div>\n",
       "<style>\n",
       "    .dataframe thead tr:only-child th {\n",
       "        text-align: right;\n",
       "    }\n",
       "\n",
       "    .dataframe thead th {\n",
       "        text-align: left;\n",
       "    }\n",
       "\n",
       "    .dataframe tbody tr th {\n",
       "        vertical-align: top;\n",
       "    }\n",
       "</style>\n",
       "<table border=\"1\" class=\"dataframe\">\n",
       "  <thead>\n",
       "    <tr style=\"text-align: right;\">\n",
       "      <th></th>\n",
       "      <th>set_id</th>\n",
       "      <th>set_title</th>\n",
       "      <th>set_url</th>\n",
       "    </tr>\n",
       "  </thead>\n",
       "  <tbody>\n",
       "    <tr>\n",
       "      <th>0</th>\n",
       "      <td>7992-1</td>\n",
       "      <td>7992-1: Container Stacker</td>\n",
       "      <td>https://brickset.com/sets/7992-1/</td>\n",
       "    </tr>\n",
       "    <tr>\n",
       "      <th>1</th>\n",
       "      <td>1088-1</td>\n",
       "      <td>1088-1: Road Burner</td>\n",
       "      <td>https://brickset.com/sets/1088-1/</td>\n",
       "    </tr>\n",
       "    <tr>\n",
       "      <th>2</th>\n",
       "      <td>60024-1</td>\n",
       "      <td>60024-1: City Advent Calendar</td>\n",
       "      <td>https://brickset.com/sets/60024-1/</td>\n",
       "    </tr>\n",
       "    <tr>\n",
       "      <th>3</th>\n",
       "      <td>6454-1</td>\n",
       "      <td>6454-1: Countdown Corner</td>\n",
       "      <td>https://brickset.com/sets/6454-1/</td>\n",
       "    </tr>\n",
       "    <tr>\n",
       "      <th>4</th>\n",
       "      <td>7623-1</td>\n",
       "      <td>7623-1: Temple Escape</td>\n",
       "      <td>https://brickset.com/sets/7623-1/</td>\n",
       "    </tr>\n",
       "  </tbody>\n",
       "</table>\n",
       "</div>"
      ],
      "text/plain": [
       "    set_id                      set_title                             set_url\n",
       "0   7992-1      7992-1: Container Stacker   https://brickset.com/sets/7992-1/\n",
       "1   1088-1            1088-1: Road Burner   https://brickset.com/sets/1088-1/\n",
       "2  60024-1  60024-1: City Advent Calendar  https://brickset.com/sets/60024-1/\n",
       "3   6454-1       6454-1: Countdown Corner   https://brickset.com/sets/6454-1/\n",
       "4   7623-1          7623-1: Temple Escape   https://brickset.com/sets/7623-1/"
      ]
     },
     "execution_count": 8,
     "metadata": {},
     "output_type": "execute_result"
    }
   ],
   "source": [
    "info_df.head()"
   ]
  },
  {
   "cell_type": "code",
   "execution_count": null,
   "metadata": {
    "collapsed": true
   },
   "outputs": [],
   "source": []
  }
 ],
 "metadata": {
  "kernelspec": {
   "display_name": "Python 2",
   "language": "python",
   "name": "python2"
  },
  "language_info": {
   "codemirror_mode": {
    "name": "ipython",
    "version": 2
   },
   "file_extension": ".py",
   "mimetype": "text/x-python",
   "name": "python",
   "nbconvert_exporter": "python",
   "pygments_lexer": "ipython2",
   "version": "2.7.13"
  }
 },
 "nbformat": 4,
 "nbformat_minor": 2
}
