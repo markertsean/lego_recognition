{
 "cells": [
  {
   "cell_type": "code",
   "execution_count": 1,
   "metadata": {
    "collapsed": true
   },
   "outputs": [],
   "source": [
    "import numpy as np\n",
    "import pandas as pd\n",
    "\n",
    "from PIL import Image\n",
    "\n",
    "import matplotlib.pyplot as plt\n",
    "\n",
    "\n",
    "import generate_image_labels as giLabels\n",
    "import edge_feature_generation as efg\n",
    "\n",
    "%matplotlib inline\n",
    "plt.style.use('dark_background')\n",
    "plt.rcParams['figure.figsize'] = (14,10)"
   ]
  },
  {
   "cell_type": "code",
   "execution_count": 2,
   "metadata": {
    "collapsed": false
   },
   "outputs": [],
   "source": [
    "full_df = giLabels.gen_retrain_labels()"
   ]
  },
  {
   "cell_type": "code",
   "execution_count": 3,
   "metadata": {
    "collapsed": true
   },
   "outputs": [],
   "source": [
    "def flip( inp_arr ):\n",
    "    return inp_arr[::-1]"
   ]
  },
  {
   "cell_type": "code",
   "execution_count": 34,
   "metadata": {
    "collapsed": false
   },
   "outputs": [],
   "source": [
    "# Go image by image\n",
    "# pass through image processing pipeline to generate features\n",
    "# Flip, rotate, each time rot/flipping rc sums and rc ratio\n",
    "# Dont actually need to rotate or process each image\n",
    "\n",
    "out_df = pd.DataFrame( \n",
    "                        columns=['img_path']+\n",
    "                                ['rc_ratio']+\n",
    "                                ['row_'+str(i) for i in range(0,126)]+\n",
    "                                ['col_'+str(i) for i in range(0,126)]\n",
    "                     )\n",
    "\n",
    "img_counter = 46173\n",
    "for i in range( 5771, full_df.shape[0] ):\n",
    "\n",
    "    inp_img = full_df.loc[i,'img_path']\n",
    "    edge_arr = efg.get_img_edge_data( \n",
    "                                inp_img,\n",
    "                                size=[128,128],\n",
    "                                edge_cutoff=20,\n",
    "                                edge_smooth=3,\n",
    "                                rot_img=False,\n",
    "                                display=False,\n",
    "                                ret_arr=True,\n",
    "                               )\n",
    "\n",
    "    \n",
    "    rc_ratio, row, col = efg.get_edge_features( edge_arr, display=False )\n",
    "    \n",
    "#    row, col\n",
    "    row_col_combinations = [\n",
    "                                [       row  ,       col  ],\n",
    "                                [       row  , flip( col )],\n",
    "                                [ flip( row ),       col  ],\n",
    "                                [ flip( row ), flip( col )],       \n",
    "                                [       col  ,       row  ],\n",
    "                                [       col  , flip( row )],\n",
    "                                [ flip( col ),       row  ], \n",
    "                                [ flip( col ), flip( row )],\n",
    "                           ]\n",
    "\n",
    "    for j in range( 0, len(row_col_combinations) ):\n",
    "    \n",
    "        rc = rc_ratio\n",
    "        if ( j > 3 ):\n",
    "            rc = 1./rc_ratio\n",
    "\n",
    "        out_list = [inp_img,rc,]+row_col_combinations[j][0].tolist()+row_col_combinations[j][1].tolist()\n",
    "        \n",
    "        out_df.loc[img_counter,:] = out_list\n",
    "    \n",
    "        img_counter = img_counter + 1"
   ]
  },
  {
   "cell_type": "code",
   "execution_count": null,
   "metadata": {
    "collapsed": true
   },
   "outputs": [],
   "source": []
  },
  {
   "cell_type": "code",
   "execution_count": null,
   "metadata": {
    "collapsed": true
   },
   "outputs": [],
   "source": [
    "# Combine out_df with old_out_df, merge with full_df, save to csv"
   ]
  },
  {
   "cell_type": "code",
   "execution_count": null,
   "metadata": {
    "collapsed": true
   },
   "outputs": [],
   "source": []
  },
  {
   "cell_type": "code",
   "execution_count": 35,
   "metadata": {
    "collapsed": false
   },
   "outputs": [
    {
     "data": {
      "text/html": [
       "<div>\n",
       "<style>\n",
       "    .dataframe thead tr:only-child th {\n",
       "        text-align: right;\n",
       "    }\n",
       "\n",
       "    .dataframe thead th {\n",
       "        text-align: left;\n",
       "    }\n",
       "\n",
       "    .dataframe tbody tr th {\n",
       "        vertical-align: top;\n",
       "    }\n",
       "</style>\n",
       "<table border=\"1\" class=\"dataframe\">\n",
       "  <thead>\n",
       "    <tr style=\"text-align: right;\">\n",
       "      <th></th>\n",
       "      <th>img_path</th>\n",
       "      <th>rc_ratio</th>\n",
       "      <th>row_0</th>\n",
       "      <th>row_1</th>\n",
       "      <th>row_2</th>\n",
       "      <th>row_3</th>\n",
       "      <th>row_4</th>\n",
       "      <th>row_5</th>\n",
       "      <th>row_6</th>\n",
       "      <th>row_7</th>\n",
       "      <th>...</th>\n",
       "      <th>col_116</th>\n",
       "      <th>col_117</th>\n",
       "      <th>col_118</th>\n",
       "      <th>col_119</th>\n",
       "      <th>col_120</th>\n",
       "      <th>col_121</th>\n",
       "      <th>col_122</th>\n",
       "      <th>col_123</th>\n",
       "      <th>col_124</th>\n",
       "      <th>col_125</th>\n",
       "    </tr>\n",
       "  </thead>\n",
       "  <tbody>\n",
       "    <tr>\n",
       "      <th>54400</th>\n",
       "      <td>/home/sean/Desktop/lego_dirty_close/roof_tile_...</td>\n",
       "      <td>1</td>\n",
       "      <td>0.442485</td>\n",
       "      <td>0.386592</td>\n",
       "      <td>0.072195</td>\n",
       "      <td>0.909424</td>\n",
       "      <td>0.92689</td>\n",
       "      <td>0.966481</td>\n",
       "      <td>1.32746</td>\n",
       "      <td>1.33328</td>\n",
       "      <td>...</td>\n",
       "      <td>0.852366</td>\n",
       "      <td>0.728936</td>\n",
       "      <td>0.848873</td>\n",
       "      <td>1.36938</td>\n",
       "      <td>2.03077</td>\n",
       "      <td>1.77111</td>\n",
       "      <td>2.02845</td>\n",
       "      <td>0.193296</td>\n",
       "      <td>0.386592</td>\n",
       "      <td>0.371455</td>\n",
       "    </tr>\n",
       "    <tr>\n",
       "      <th>54401</th>\n",
       "      <td>/home/sean/Desktop/lego_dirty_close/roof_tile_...</td>\n",
       "      <td>1</td>\n",
       "      <td>0.371455</td>\n",
       "      <td>0.386592</td>\n",
       "      <td>0.193296</td>\n",
       "      <td>2.02845</td>\n",
       "      <td>1.77111</td>\n",
       "      <td>2.03077</td>\n",
       "      <td>1.36938</td>\n",
       "      <td>0.848873</td>\n",
       "      <td>...</td>\n",
       "      <td>1.3717</td>\n",
       "      <td>1.30999</td>\n",
       "      <td>1.33328</td>\n",
       "      <td>1.32746</td>\n",
       "      <td>0.966481</td>\n",
       "      <td>0.92689</td>\n",
       "      <td>0.909424</td>\n",
       "      <td>0.072195</td>\n",
       "      <td>0.386592</td>\n",
       "      <td>0.442485</td>\n",
       "    </tr>\n",
       "    <tr>\n",
       "      <th>54402</th>\n",
       "      <td>/home/sean/Desktop/lego_dirty_close/roof_tile_...</td>\n",
       "      <td>1</td>\n",
       "      <td>0.371455</td>\n",
       "      <td>0.386592</td>\n",
       "      <td>0.193296</td>\n",
       "      <td>2.02845</td>\n",
       "      <td>1.77111</td>\n",
       "      <td>2.03077</td>\n",
       "      <td>1.36938</td>\n",
       "      <td>0.848873</td>\n",
       "      <td>...</td>\n",
       "      <td>0.942028</td>\n",
       "      <td>0.833735</td>\n",
       "      <td>0.96881</td>\n",
       "      <td>1.32746</td>\n",
       "      <td>1.03518</td>\n",
       "      <td>0.893122</td>\n",
       "      <td>1.01888</td>\n",
       "      <td>0</td>\n",
       "      <td>0.37029</td>\n",
       "      <td>0.464609</td>\n",
       "    </tr>\n",
       "    <tr>\n",
       "      <th>54403</th>\n",
       "      <td>/home/sean/Desktop/lego_dirty_close/roof_tile_...</td>\n",
       "      <td>1</td>\n",
       "      <td>0.305082</td>\n",
       "      <td>0.231723</td>\n",
       "      <td>0.0675372</td>\n",
       "      <td>1.218</td>\n",
       "      <td>0.827913</td>\n",
       "      <td>0.971139</td>\n",
       "      <td>0.872162</td>\n",
       "      <td>1.23197</td>\n",
       "      <td>...</td>\n",
       "      <td>1.3717</td>\n",
       "      <td>1.30999</td>\n",
       "      <td>1.33328</td>\n",
       "      <td>1.32746</td>\n",
       "      <td>0.966481</td>\n",
       "      <td>0.92689</td>\n",
       "      <td>0.909424</td>\n",
       "      <td>0.072195</td>\n",
       "      <td>0.386592</td>\n",
       "      <td>0.442485</td>\n",
       "    </tr>\n",
       "    <tr>\n",
       "      <th>54404</th>\n",
       "      <td>/home/sean/Desktop/lego_dirty_close/roof_tile_...</td>\n",
       "      <td>1</td>\n",
       "      <td>0.305082</td>\n",
       "      <td>0.231723</td>\n",
       "      <td>0.0675372</td>\n",
       "      <td>1.218</td>\n",
       "      <td>0.827913</td>\n",
       "      <td>0.971139</td>\n",
       "      <td>0.872162</td>\n",
       "      <td>1.23197</td>\n",
       "      <td>...</td>\n",
       "      <td>0.942028</td>\n",
       "      <td>0.833735</td>\n",
       "      <td>0.96881</td>\n",
       "      <td>1.32746</td>\n",
       "      <td>1.03518</td>\n",
       "      <td>0.893122</td>\n",
       "      <td>1.01888</td>\n",
       "      <td>0</td>\n",
       "      <td>0.37029</td>\n",
       "      <td>0.464609</td>\n",
       "    </tr>\n",
       "  </tbody>\n",
       "</table>\n",
       "<p>5 rows × 254 columns</p>\n",
       "</div>"
      ],
      "text/plain": [
       "                                                img_path rc_ratio     row_0  \\\n",
       "54400  /home/sean/Desktop/lego_dirty_close/roof_tile_...        1  0.442485   \n",
       "54401  /home/sean/Desktop/lego_dirty_close/roof_tile_...        1  0.371455   \n",
       "54402  /home/sean/Desktop/lego_dirty_close/roof_tile_...        1  0.371455   \n",
       "54403  /home/sean/Desktop/lego_dirty_close/roof_tile_...        1  0.305082   \n",
       "54404  /home/sean/Desktop/lego_dirty_close/roof_tile_...        1  0.305082   \n",
       "\n",
       "          row_1      row_2     row_3     row_4     row_5     row_6     row_7  \\\n",
       "54400  0.386592   0.072195  0.909424   0.92689  0.966481   1.32746   1.33328   \n",
       "54401  0.386592   0.193296   2.02845   1.77111   2.03077   1.36938  0.848873   \n",
       "54402  0.386592   0.193296   2.02845   1.77111   2.03077   1.36938  0.848873   \n",
       "54403  0.231723  0.0675372     1.218  0.827913  0.971139  0.872162   1.23197   \n",
       "54404  0.231723  0.0675372     1.218  0.827913  0.971139  0.872162   1.23197   \n",
       "\n",
       "         ...      col_116   col_117   col_118  col_119   col_120   col_121  \\\n",
       "54400    ...     0.852366  0.728936  0.848873  1.36938   2.03077   1.77111   \n",
       "54401    ...       1.3717   1.30999   1.33328  1.32746  0.966481   0.92689   \n",
       "54402    ...     0.942028  0.833735   0.96881  1.32746   1.03518  0.893122   \n",
       "54403    ...       1.3717   1.30999   1.33328  1.32746  0.966481   0.92689   \n",
       "54404    ...     0.942028  0.833735   0.96881  1.32746   1.03518  0.893122   \n",
       "\n",
       "        col_122   col_123   col_124   col_125  \n",
       "54400   2.02845  0.193296  0.386592  0.371455  \n",
       "54401  0.909424  0.072195  0.386592  0.442485  \n",
       "54402   1.01888         0   0.37029  0.464609  \n",
       "54403  0.909424  0.072195  0.386592  0.442485  \n",
       "54404   1.01888         0   0.37029  0.464609  \n",
       "\n",
       "[5 rows x 254 columns]"
      ]
     },
     "execution_count": 35,
     "metadata": {},
     "output_type": "execute_result"
    }
   ],
   "source": [
    "out_df.tail()"
   ]
  },
  {
   "cell_type": "code",
   "execution_count": null,
   "metadata": {
    "collapsed": true
   },
   "outputs": [],
   "source": []
  },
  {
   "cell_type": "code",
   "execution_count": 15,
   "metadata": {
    "collapsed": false
   },
   "outputs": [
    {
     "name": "stdout",
     "output_type": "stream",
     "text": [
      "/home/sean/Desktop/lego_dirty_close/plate_1x3/2214_rescale.jpg\n",
      "/home/sean/Desktop/lego_dirty_close/plate_1x3/2214_rescale.jpg\n"
     ]
    }
   ],
   "source": [
    "print out_df.loc[16499,'img_path']\n",
    "print full_df.loc[2062,'img_path']"
   ]
  },
  {
   "cell_type": "code",
   "execution_count": 30,
   "metadata": {
    "collapsed": false
   },
   "outputs": [
    {
     "name": "stdout",
     "output_type": "stream",
     "text": [
      "/home/sean/Desktop/lego_dirty_close/corner_plate_1x2x2/6227_rescale.jpg\n",
      "/home/sean/Desktop/lego_dirty_close/corner_plate_1x2x2/6339_rescale.jpg\n"
     ]
    }
   ],
   "source": [
    "print out_df.loc[46173,'img_path']\n",
    "print full_df.loc[5771,'img_path']"
   ]
  },
  {
   "cell_type": "code",
   "execution_count": 36,
   "metadata": {
    "collapsed": false
   },
   "outputs": [
    {
     "data": {
      "text/plain": [
       "6800"
      ]
     },
     "execution_count": 36,
     "metadata": {},
     "output_type": "execute_result"
    }
   ],
   "source": [
    "54400/8"
   ]
  },
  {
   "cell_type": "code",
   "execution_count": 37,
   "metadata": {
    "collapsed": true
   },
   "outputs": [],
   "source": [
    "old_out_df_4 = out_df.copy()"
   ]
  },
  {
   "cell_type": "code",
   "execution_count": null,
   "metadata": {
    "collapsed": true
   },
   "outputs": [],
   "source": [
    "old_out_df_4.to_csv('temp_')"
   ]
  },
  {
   "cell_type": "code",
   "execution_count": null,
   "metadata": {
    "collapsed": true
   },
   "outputs": [],
   "source": []
  },
  {
   "cell_type": "markdown",
   "metadata": {
    "collapsed": true
   },
   "source": [
    "old_out_df_3 = out_df.copy()"
   ]
  },
  {
   "cell_type": "markdown",
   "metadata": {
    "collapsed": true
   },
   "source": [
    "old_out_df_3.to_csv('temp_3.csv')"
   ]
  },
  {
   "cell_type": "code",
   "execution_count": null,
   "metadata": {
    "collapsed": true
   },
   "outputs": [],
   "source": []
  },
  {
   "cell_type": "markdown",
   "metadata": {},
   "source": [
    "old_out_df   = out_df.copy()"
   ]
  },
  {
   "cell_type": "markdown",
   "metadata": {
    "collapsed": true
   },
   "source": [
    "old_out_df.to_csv('temp.csv')"
   ]
  },
  {
   "cell_type": "markdown",
   "metadata": {
    "collapsed": true
   },
   "source": [
    "old_out_df_2 = out_df.copy()"
   ]
  },
  {
   "cell_type": "markdown",
   "metadata": {},
   "source": [
    "old_out_df_2.to_csv('temp_2.csv')"
   ]
  },
  {
   "cell_type": "code",
   "execution_count": 6,
   "metadata": {
    "collapsed": false
   },
   "outputs": [],
   "source": [
    "out_1 = pd.read_csv('temp.csv'  ).drop('Unnamed: 0',axis=1)\n",
    "out_2 = pd.read_csv('temp_2.csv').drop('Unnamed: 0',axis=1)\n",
    "out_3 = pd.read_csv('temp_4.csv').drop('Unnamed: 0',axis=1)"
   ]
  },
  {
   "cell_type": "code",
   "execution_count": 7,
   "metadata": {
    "collapsed": false
   },
   "outputs": [
    {
     "data": {
      "text/plain": [
       "54406"
      ]
     },
     "execution_count": 7,
     "metadata": {},
     "output_type": "execute_result"
    }
   ],
   "source": [
    "out_1.shape[0]+out_2.shape[0]+out_3.shape[0]"
   ]
  },
  {
   "cell_type": "code",
   "execution_count": 8,
   "metadata": {
    "collapsed": false
   },
   "outputs": [
    {
     "name": "stdout",
     "output_type": "stream",
     "text": [
      "6800 54400\n"
     ]
    }
   ],
   "source": [
    "print full_df.shape[0], full_df.shape[0]*8"
   ]
  },
  {
   "cell_type": "code",
   "execution_count": 10,
   "metadata": {
    "collapsed": false
   },
   "outputs": [
    {
     "data": {
      "text/html": [
       "<div>\n",
       "<style>\n",
       "    .dataframe thead tr:only-child th {\n",
       "        text-align: right;\n",
       "    }\n",
       "\n",
       "    .dataframe thead th {\n",
       "        text-align: left;\n",
       "    }\n",
       "\n",
       "    .dataframe tbody tr th {\n",
       "        vertical-align: top;\n",
       "    }\n",
       "</style>\n",
       "<table border=\"1\" class=\"dataframe\">\n",
       "  <thead>\n",
       "    <tr style=\"text-align: right;\">\n",
       "      <th></th>\n",
       "      <th>img_path</th>\n",
       "      <th>rc_ratio</th>\n",
       "      <th>row_0</th>\n",
       "      <th>row_1</th>\n",
       "      <th>row_2</th>\n",
       "      <th>row_3</th>\n",
       "      <th>row_4</th>\n",
       "      <th>row_5</th>\n",
       "      <th>row_6</th>\n",
       "      <th>row_7</th>\n",
       "      <th>...</th>\n",
       "      <th>col_116</th>\n",
       "      <th>col_117</th>\n",
       "      <th>col_118</th>\n",
       "      <th>col_119</th>\n",
       "      <th>col_120</th>\n",
       "      <th>col_121</th>\n",
       "      <th>col_122</th>\n",
       "      <th>col_123</th>\n",
       "      <th>col_124</th>\n",
       "      <th>col_125</th>\n",
       "    </tr>\n",
       "  </thead>\n",
       "  <tbody>\n",
       "    <tr>\n",
       "      <th>0</th>\n",
       "      <td>/home/sean/Desktop/lego_dirty_close/brick_corn...</td>\n",
       "      <td>0.992063</td>\n",
       "      <td>0.461218</td>\n",
       "      <td>0.622010</td>\n",
       "      <td>0.045134</td>\n",
       "      <td>1.318774</td>\n",
       "      <td>0.784212</td>\n",
       "      <td>1.207348</td>\n",
       "      <td>1.187601</td>\n",
       "      <td>1.334289</td>\n",
       "      <td>...</td>\n",
       "      <td>1.128362</td>\n",
       "      <td>1.311721</td>\n",
       "      <td>1.575476</td>\n",
       "      <td>1.179139</td>\n",
       "      <td>1.186191</td>\n",
       "      <td>0.984496</td>\n",
       "      <td>1.269408</td>\n",
       "      <td>0.016925</td>\n",
       "      <td>0.600853</td>\n",
       "      <td>0.708047</td>\n",
       "    </tr>\n",
       "    <tr>\n",
       "      <th>1</th>\n",
       "      <td>/home/sean/Desktop/lego_dirty_close/brick_corn...</td>\n",
       "      <td>0.992063</td>\n",
       "      <td>0.461218</td>\n",
       "      <td>0.622010</td>\n",
       "      <td>0.045134</td>\n",
       "      <td>1.318774</td>\n",
       "      <td>0.784212</td>\n",
       "      <td>1.207348</td>\n",
       "      <td>1.187601</td>\n",
       "      <td>1.334289</td>\n",
       "      <td>...</td>\n",
       "      <td>1.176318</td>\n",
       "      <td>1.232736</td>\n",
       "      <td>1.351214</td>\n",
       "      <td>1.435841</td>\n",
       "      <td>1.506364</td>\n",
       "      <td>1.434431</td>\n",
       "      <td>1.249661</td>\n",
       "      <td>0.014105</td>\n",
       "      <td>0.469681</td>\n",
       "      <td>0.559950</td>\n",
       "    </tr>\n",
       "    <tr>\n",
       "      <th>2</th>\n",
       "      <td>/home/sean/Desktop/lego_dirty_close/brick_corn...</td>\n",
       "      <td>0.992063</td>\n",
       "      <td>0.633293</td>\n",
       "      <td>0.447114</td>\n",
       "      <td>0.126941</td>\n",
       "      <td>1.186191</td>\n",
       "      <td>1.002832</td>\n",
       "      <td>1.138236</td>\n",
       "      <td>1.136825</td>\n",
       "      <td>1.071944</td>\n",
       "      <td>...</td>\n",
       "      <td>1.128362</td>\n",
       "      <td>1.311721</td>\n",
       "      <td>1.575476</td>\n",
       "      <td>1.179139</td>\n",
       "      <td>1.186191</td>\n",
       "      <td>0.984496</td>\n",
       "      <td>1.269408</td>\n",
       "      <td>0.016925</td>\n",
       "      <td>0.600853</td>\n",
       "      <td>0.708047</td>\n",
       "    </tr>\n",
       "    <tr>\n",
       "      <th>3</th>\n",
       "      <td>/home/sean/Desktop/lego_dirty_close/brick_corn...</td>\n",
       "      <td>0.992063</td>\n",
       "      <td>0.633293</td>\n",
       "      <td>0.447114</td>\n",
       "      <td>0.126941</td>\n",
       "      <td>1.186191</td>\n",
       "      <td>1.002832</td>\n",
       "      <td>1.138236</td>\n",
       "      <td>1.136825</td>\n",
       "      <td>1.071944</td>\n",
       "      <td>...</td>\n",
       "      <td>1.176318</td>\n",
       "      <td>1.232736</td>\n",
       "      <td>1.351214</td>\n",
       "      <td>1.435841</td>\n",
       "      <td>1.506364</td>\n",
       "      <td>1.434431</td>\n",
       "      <td>1.249661</td>\n",
       "      <td>0.014105</td>\n",
       "      <td>0.469681</td>\n",
       "      <td>0.559950</td>\n",
       "    </tr>\n",
       "    <tr>\n",
       "      <th>4</th>\n",
       "      <td>/home/sean/Desktop/lego_dirty_close/brick_corn...</td>\n",
       "      <td>1.008000</td>\n",
       "      <td>0.559950</td>\n",
       "      <td>0.469681</td>\n",
       "      <td>0.014105</td>\n",
       "      <td>1.249661</td>\n",
       "      <td>1.434431</td>\n",
       "      <td>1.506364</td>\n",
       "      <td>1.435841</td>\n",
       "      <td>1.351214</td>\n",
       "      <td>...</td>\n",
       "      <td>1.021168</td>\n",
       "      <td>1.149519</td>\n",
       "      <td>1.071944</td>\n",
       "      <td>1.136825</td>\n",
       "      <td>1.138236</td>\n",
       "      <td>1.002832</td>\n",
       "      <td>1.186191</td>\n",
       "      <td>0.126941</td>\n",
       "      <td>0.447114</td>\n",
       "      <td>0.633293</td>\n",
       "    </tr>\n",
       "  </tbody>\n",
       "</table>\n",
       "<p>5 rows × 254 columns</p>\n",
       "</div>"
      ],
      "text/plain": [
       "                                            img_path  rc_ratio     row_0  \\\n",
       "0  /home/sean/Desktop/lego_dirty_close/brick_corn...  0.992063  0.461218   \n",
       "1  /home/sean/Desktop/lego_dirty_close/brick_corn...  0.992063  0.461218   \n",
       "2  /home/sean/Desktop/lego_dirty_close/brick_corn...  0.992063  0.633293   \n",
       "3  /home/sean/Desktop/lego_dirty_close/brick_corn...  0.992063  0.633293   \n",
       "4  /home/sean/Desktop/lego_dirty_close/brick_corn...  1.008000  0.559950   \n",
       "\n",
       "      row_1     row_2     row_3     row_4     row_5     row_6     row_7  \\\n",
       "0  0.622010  0.045134  1.318774  0.784212  1.207348  1.187601  1.334289   \n",
       "1  0.622010  0.045134  1.318774  0.784212  1.207348  1.187601  1.334289   \n",
       "2  0.447114  0.126941  1.186191  1.002832  1.138236  1.136825  1.071944   \n",
       "3  0.447114  0.126941  1.186191  1.002832  1.138236  1.136825  1.071944   \n",
       "4  0.469681  0.014105  1.249661  1.434431  1.506364  1.435841  1.351214   \n",
       "\n",
       "     ...      col_116   col_117   col_118   col_119   col_120   col_121  \\\n",
       "0    ...     1.128362  1.311721  1.575476  1.179139  1.186191  0.984496   \n",
       "1    ...     1.176318  1.232736  1.351214  1.435841  1.506364  1.434431   \n",
       "2    ...     1.128362  1.311721  1.575476  1.179139  1.186191  0.984496   \n",
       "3    ...     1.176318  1.232736  1.351214  1.435841  1.506364  1.434431   \n",
       "4    ...     1.021168  1.149519  1.071944  1.136825  1.138236  1.002832   \n",
       "\n",
       "    col_122   col_123   col_124   col_125  \n",
       "0  1.269408  0.016925  0.600853  0.708047  \n",
       "1  1.249661  0.014105  0.469681  0.559950  \n",
       "2  1.269408  0.016925  0.600853  0.708047  \n",
       "3  1.249661  0.014105  0.469681  0.559950  \n",
       "4  1.186191  0.126941  0.447114  0.633293  \n",
       "\n",
       "[5 rows x 254 columns]"
      ]
     },
     "execution_count": 10,
     "metadata": {},
     "output_type": "execute_result"
    }
   ],
   "source": [
    "out_df = pd.concat( [out_1,out_2,out_3], axis=0, ignore_index=True )\n",
    "out_df.head()"
   ]
  },
  {
   "cell_type": "code",
   "execution_count": null,
   "metadata": {
    "collapsed": true
   },
   "outputs": [],
   "source": []
  },
  {
   "cell_type": "code",
   "execution_count": 12,
   "metadata": {
    "collapsed": false
   },
   "outputs": [],
   "source": [
    "foo = pd.merge( full_df, out_df, left_on='img_path', right_on='img_path', how='inner' ) \n",
    "foo.to_csv('refit_labelled.csv')"
   ]
  },
  {
   "cell_type": "code",
   "execution_count": null,
   "metadata": {
    "collapsed": true
   },
   "outputs": [],
   "source": []
  },
  {
   "cell_type": "code",
   "execution_count": null,
   "metadata": {
    "collapsed": false
   },
   "outputs": [],
   "source": [
    "foo = pd.merge( full_df, out_df, left_on='img_path', right_on='img_path', how='inner' ) "
   ]
  },
  {
   "cell_type": "code",
   "execution_count": null,
   "metadata": {
    "collapsed": true
   },
   "outputs": [],
   "source": [
    "print foo.shape"
   ]
  },
  {
   "cell_type": "code",
   "execution_count": null,
   "metadata": {
    "collapsed": true
   },
   "outputs": [],
   "source": []
  }
 ],
 "metadata": {
  "kernelspec": {
   "display_name": "Python 2",
   "language": "python",
   "name": "python2"
  },
  "language_info": {
   "codemirror_mode": {
    "name": "ipython",
    "version": 2
   },
   "file_extension": ".py",
   "mimetype": "text/x-python",
   "name": "python",
   "nbconvert_exporter": "python",
   "pygments_lexer": "ipython2",
   "version": "2.7.13"
  }
 },
 "nbformat": 4,
 "nbformat_minor": 2
}
