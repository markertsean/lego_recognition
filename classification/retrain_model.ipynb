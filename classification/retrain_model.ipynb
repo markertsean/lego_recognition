{
 "cells": [
  {
   "cell_type": "code",
   "execution_count": 18,
   "metadata": {
    "collapsed": true
   },
   "outputs": [],
   "source": [
    "import numpy as np\n",
    "import pandas as pd\n",
    "\n",
    "from PIL import Image\n",
    "\n",
    "import matplotlib.pyplot as plt\n",
    "\n",
    "\n",
    "import generate_image_labels as giLabels\n",
    "import edge_feature_generation as efg\n",
    "\n",
    "%matplotlib inline\n",
    "plt.style.use('dark_background')\n",
    "plt.rcParams['figure.figsize'] = (14,10)"
   ]
  },
  {
   "cell_type": "code",
   "execution_count": 43,
   "metadata": {
    "collapsed": false
   },
   "outputs": [],
   "source": [
    "full_df = giLabels.gen_retrain_labels()"
   ]
  },
  {
   "cell_type": "code",
   "execution_count": 89,
   "metadata": {
    "collapsed": true
   },
   "outputs": [],
   "source": [
    "def flip( inp_arr ):\n",
    "    return inp_arr[::-1]"
   ]
  },
  {
   "cell_type": "code",
   "execution_count": 110,
   "metadata": {
    "collapsed": false,
    "scrolled": false
   },
   "outputs": [],
   "source": [
    "# Go image by image\n",
    "# pass through image processing pipeline to generate features\n",
    "# Flip, rotate, each time rot/flipping rc sums and rc ratio\n",
    "# Dont actually need to rotate or process each image\n",
    "\n",
    "out_df = pd.DataFrame( \n",
    "                        columns=['img_path']+\n",
    "                                ['rc_ratio']+\n",
    "                                ['row_'+str(i) for i in range(0,126)]+\n",
    "                                ['col_'+str(i) for i in range(0,126)]\n",
    "                     )\n",
    "\n",
    "img_counter = 0\n",
    "for i in range( 0, full_df.shape[0] ):\n",
    "\n",
    "    inp_img = full_df.loc[i,'img_path']\n",
    "    edge_arr = efg.get_img_edge_data( \n",
    "                                inp_img,\n",
    "                                size=[128,128],\n",
    "                                edge_cutoff=20,\n",
    "                                edge_smooth=3,\n",
    "                                rot_img=False,\n",
    "                                display=False,\n",
    "                                ret_arr=True,\n",
    "                               )\n",
    "\n",
    "    \n",
    "    rc_ratio, row, col = efg.get_edge_features( edge_arr, display=False )\n",
    "    \n",
    "#    row, col\n",
    "    row_col_combinations = [\n",
    "                                [       row  ,       col  ],\n",
    "                                [       row  , flip( col )],\n",
    "                                [ flip( row ),       col  ],\n",
    "                                [ flip( row ), flip( col )],       \n",
    "                                [       col  ,       row  ],\n",
    "                                [       col  , flip( row )],\n",
    "                                [ flip( col ),       row  ], \n",
    "                                [ flip( col ), flip( row )],\n",
    "                           ]\n",
    "\n",
    "    for j in range( 0, len(row_col_combinations) ):\n",
    "    \n",
    "        rc = rc_ratio\n",
    "        if ( j > 3 ):\n",
    "            rc = 1./rc_ratio\n",
    "\n",
    "        out_list = [inp_img,rc,]+row_col_combinations[j][0].tolist()+row_col_combinations[j][1].tolist()\n",
    "        \n",
    "        out_df.loc[img_counter,:] = out_list\n",
    "    \n",
    "        img_counter = img_counter + 1"
   ]
  },
  {
   "cell_type": "code",
   "execution_count": 116,
   "metadata": {
    "collapsed": false
   },
   "outputs": [],
   "source": [
    "foo = pd.merge( full_df, out_df, left_on='img_path', right_on='img_path', how='inner' ) "
   ]
  },
  {
   "cell_type": "code",
   "execution_count": null,
   "metadata": {
    "collapsed": true
   },
   "outputs": [],
   "source": []
  }
 ],
 "metadata": {
  "kernelspec": {
   "display_name": "Python 2",
   "language": "python",
   "name": "python2"
  },
  "language_info": {
   "codemirror_mode": {
    "name": "ipython",
    "version": 2
   },
   "file_extension": ".py",
   "mimetype": "text/x-python",
   "name": "python",
   "nbconvert_exporter": "python",
   "pygments_lexer": "ipython2",
   "version": "2.7.13"
  }
 },
 "nbformat": 4,
 "nbformat_minor": 2
}
