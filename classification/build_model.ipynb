{
 "cells": [
  {
   "cell_type": "code",
   "execution_count": 1,
   "metadata": {
    "collapsed": true
   },
   "outputs": [],
   "source": [
    "import os, sys\n",
    "\n",
    "import numpy  as np\n",
    "import pandas as pd\n",
    "\n",
    "from scipy import stats\n",
    "from PIL   import Image, ImageFilter\n",
    "\n",
    "import matplotlib.pyplot as plt\n",
    "\n",
    "import generate_image_lists as giList\n",
    "import generate_image_labels as giLabels\n",
    "import edge_feature_generation as efg\n",
    "\n",
    "%matplotlib inline\n",
    "\n",
    "plt.style.use('dark_background')\n",
    "plt.rcParams['figure.figsize'] = (14,10)"
   ]
  },
  {
   "cell_type": "code",
   "execution_count": 31,
   "metadata": {
    "collapsed": false
   },
   "outputs": [
    {
     "name": "stdout",
     "output_type": "stream",
     "text": [
      "\n"
     ]
    }
   ],
   "source": [
    "img_list, label_list = giList.get_white_images_labels()\n",
    "\n",
    "img_df = giLabels.gen_white_labels()"
   ]
  },
  {
   "cell_type": "code",
   "execution_count": 35,
   "metadata": {
    "collapsed": false
   },
   "outputs": [
    {
     "name": "stdout",
     "output_type": "stream",
     "text": [
      "235 236 237 238 239 240 241 242 243 244 245 246 247 248 249 250 251 252 253 254 255 256 257 258 259 260 261 262 263 264 265 266 267 268 269 270 271 272 273 274 275 276\n"
     ]
    }
   ],
   "source": [
    "row_col_ratio_list = []\n",
    "row_list           = []\n",
    "col_list           = []\n",
    "\n",
    "\n",
    "for i in range( 235, img_df.shape[0] ):#img in img_df['img_path'].values:\n",
    "    img = img_df['img_path'].values[i]\n",
    "    print i,\n",
    "    rc, r, c = efg.get_img_edge_data( img, blur=3 )\n",
    "    row_col_ratio_list.append( rc )\n",
    "    row_list          .append( r  )\n",
    "    col_list          .append( c  )"
   ]
  },
  {
   "cell_type": "code",
   "execution_count": null,
   "metadata": {
    "collapsed": true
   },
   "outputs": [],
   "source": []
  },
  {
   "cell_type": "code",
   "execution_count": null,
   "metadata": {
    "collapsed": true
   },
   "outputs": [],
   "source": []
  }
 ],
 "metadata": {
  "kernelspec": {
   "display_name": "Python 2",
   "language": "python",
   "name": "python2"
  },
  "language_info": {
   "codemirror_mode": {
    "name": "ipython",
    "version": 2
   },
   "file_extension": ".py",
   "mimetype": "text/x-python",
   "name": "python",
   "nbconvert_exporter": "python",
   "pygments_lexer": "ipython2",
   "version": "2.7.13"
  }
 },
 "nbformat": 4,
 "nbformat_minor": 2
}
