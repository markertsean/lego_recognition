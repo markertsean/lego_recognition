{
 "cells": [
  {
   "cell_type": "code",
   "execution_count": 1,
   "metadata": {
    "collapsed": true
   },
   "outputs": [],
   "source": [
    "import sys, os"
   ]
  },
  {
   "cell_type": "code",
   "execution_count": 50,
   "metadata": {
    "collapsed": false
   },
   "outputs": [],
   "source": [
    "# Directories are the labels in this convention\n",
    "def get_dir_labels( \n",
    "                    inp_dir\n",
    "                  ):\n",
    "    # Make sure we have a directory\n",
    "    if not os.path.isdir(inp_dir):\n",
    "        raise ValueError( 'No such file or directory: '+inp_dir )\n",
    "\n",
    "    # Each directory is possibly a label, double check\n",
    "    label_list = []\n",
    "    possible_labels = os.listdir( inp_dir )\n",
    "    for label in possible_labels:\n",
    "        if os.path.isdir( inp_dir + label ):\n",
    "            label_list.append( label )\n",
    "\n",
    "    return label_list\n",
    "\n",
    "# Return list of image files\n",
    "def get_white_images_labels(\n",
    "                            inp_dir = '/home/sean/Desktop/lego_images_bounding_labeled/',\n",
    "                            dirty   = False\n",
    "                           ):\n",
    "    \n",
    "    # Get out list of directory labels\n",
    "    label_list = get_dir_labels( inp_dir )\n",
    "    \n",
    "    # Output dict of labels\n",
    "    label_dict = {}\n",
    "    \n",
    "    # Output list of image paths\n",
    "    img_list = []\n",
    "    for label in label_list[:2]:\n",
    "        \n",
    "        # Directory containing image\n",
    "        img_dir = inp_dir + label + '/'\n",
    "        \n",
    "        # Get the images in jpg jpeg or png\n",
    "        dir_contents = os.listdir( img_dir )\n",
    "        for item in dir_contents:\n",
    "            if (\n",
    "                ( item[-4:] == '.jpg'  ) or\n",
    "                ( item[-5:] == '.jpeg' ) or\n",
    "                ( item[-4:] == '.png'  )\n",
    "               ):\n",
    "                \n",
    "                # If we aren't doing the dirty images, only need extension\n",
    "                # If dirty, need to make sure just taking the rescaled images\n",
    "                if ( \n",
    "                    ( not dirty ) or\n",
    "                    ( 'rescale' in item )\n",
    "                   ):\n",
    "                    img_list.append( img_dir + item )\n",
    "                    label_dict[ img_dir + item ] = label\n",
    "                    \n",
    "    return img_list, label_dict\n",
    "\n",
    "# For noisy images, need to do the same\n",
    "#  as white images, but only for rescale\n",
    "#  not for mult\n",
    "def get_dirty_images_labels():\n",
    "    return get_white_images_labels(\n",
    "                                    inp_dir = '/home/sean/Desktop/lego_images_bounding_box_dirty/',\n",
    "                                    dirty   = True\n",
    "                                  )"
   ]
  },
  {
   "cell_type": "code",
   "execution_count": null,
   "metadata": {
    "collapsed": true
   },
   "outputs": [],
   "source": []
  }
 ],
 "metadata": {
  "kernelspec": {
   "display_name": "Python 2",
   "language": "python",
   "name": "python2"
  },
  "language_info": {
   "codemirror_mode": {
    "name": "ipython",
    "version": 2
   },
   "file_extension": ".py",
   "mimetype": "text/x-python",
   "name": "python",
   "nbconvert_exporter": "python",
   "pygments_lexer": "ipython2",
   "version": "2.7.13"
  }
 },
 "nbformat": 4,
 "nbformat_minor": 2
}
