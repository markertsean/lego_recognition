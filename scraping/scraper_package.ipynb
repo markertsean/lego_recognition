{
 "cells": [
  {
   "cell_type": "code",
   "execution_count": 1,
   "metadata": {
    "collapsed": true
   },
   "outputs": [],
   "source": [
    "from google_images_download import google_images_download   #importing the library\n",
    "\n",
    "response = google_images_download.googleimagesdownload()   #class instantiation"
   ]
  },
  {
   "cell_type": "code",
   "execution_count": 23,
   "metadata": {
    "collapsed": true
   },
   "outputs": [],
   "source": [
    "brick_list = [\n",
    "'Brick Corner 1X2X2',\n",
    "'Radiator Grille 1X2',\n",
    "'Corner Plate 1X2X2',\n",
    "'Flat Tile 1X4',\n",
    "'Plate 2X12',\n",
    "'Brick 2X6',\n",
    "'Brick 2X3',\n",
    "'Brick 2X2',\n",
    "'Brick 1X2',\n",
    "'Brick 1X1',\n",
    "'Brick 1X8',\n",
    "'Brick 1X6',\n",
    "'Brick 1X4',\n",
    "'Plate 2X4',\n",
    "'Plate 2X3',\n",
    "'Plate 2X2',\n",
    "'Plate 1X2',\n",
    "'Plate 1X1',\n",
    "'Plate 4X4',\n",
    "'Plate 4X6',\n",
    "'Plate 6X10',\n",
    "'Plate 2X8',\n",
    "'Plate 4X8',\n",
    "'Plate 6X8',\n",
    "'Round Brick 1X1',\n",
    "'Flat Tile 2X2',\n",
    "'Flat Tile 1X2',\n",
    "'Flat Tile 1X1',\n",
    "'Arch 1X6X2',\n",
    "'Plate 1X8',\n",
    "'Brick 1X3',\n",
    "'Plate 1X3',\n",
    "'Brick W. Bow 1X4',\n",
    "'Roof Tile 1X2 Inv.',\n",
    "'Plate 1X6',\n",
    "'Technic Brick 1X2 w\\ hole',\n",
    "'Plate 1X4',\n",
    "'Plate 1X2 W. 1 Knob',\n",
    "'Plate 2X6',\n",
    "'Brick 2X2 Round',\n",
    "'Plate 6X6',\n",
    "'Angular Brick 1X1',\n",
    "'Plate 1X1 Round',\n",
    "'Plate 1X1 w\\ Clip Vertical',\n",
    "'Tile 2X2 Round',\n",
    "'Flat Tile 1X8',\n",
    "'Plate 1X10',\n",
    "'Arch 1X3',\n",
    "'Technic Brick 1X1 w/ hole',\n",
    "'Flat Tile 1X6',\n",
    "'Plate 8X8',\n",
    "'Roof Tile 2X2/45',\n",
    "'Roof Tile 1X2/45',\n",
    "'Corner Brick 2X2/45 Outside',\n",
    "'Roof Tile 1X3/25',\n",
    "'Roof Tile 1X3/25 Inv.',\n",
    "    ]"
   ]
  },
  {
   "cell_type": "code",
   "execution_count": 28,
   "metadata": {
    "collapsed": false
   },
   "outputs": [],
   "source": [
    "abs_limit = 20\n",
    "\n",
    "base_args = {\n",
    "                'limit': abs_limit,\n",
    "            }\n",
    "\n",
    "keyword_list = brick_list[:5]\n",
    "\n",
    "dir_list = [ brick.replace(' ','_').lower() for brick in keyword_list ]"
   ]
  },
  {
   "cell_type": "code",
   "execution_count": 25,
   "metadata": {
    "collapsed": false
   },
   "outputs": [
    {
     "data": {
      "text/plain": [
       "['Brick Corner 1X2X2',\n",
       " 'Radiator Grille 1X2',\n",
       " 'Corner Plate 1X2X2',\n",
       " 'Flat Tile 1X4',\n",
       " 'Plate 2X12']"
      ]
     },
     "execution_count": 25,
     "metadata": {},
     "output_type": "execute_result"
    }
   ],
   "source": [
    "keyword_list"
   ]
  },
  {
   "cell_type": "code",
   "execution_count": 29,
   "metadata": {
    "collapsed": false
   },
   "outputs": [
    {
     "data": {
      "text/plain": [
       "['brick_corner_1x2x2',\n",
       " 'radiator_grille_1x2',\n",
       " 'corner_plate_1x2x2',\n",
       " 'flat_tile_1x4',\n",
       " 'plate_2x12']"
      ]
     },
     "execution_count": 29,
     "metadata": {},
     "output_type": "execute_result"
    }
   ],
   "source": [
    "dir_list"
   ]
  },
  {
   "cell_type": "code",
   "execution_count": 31,
   "metadata": {
    "collapsed": false
   },
   "outputs": [
    {
     "name": "stdout",
     "output_type": "stream",
     "text": [
      "Searching for  Brick Corner 1X2X2 , storing in download directory  brick_corner_1x2x2\n",
      "\n",
      "Item no.: 1 --> Item name = legoBrick Corner 1X2X2\n",
      "Evaluating...\n",
      "Starting Download...\n",
      "Completed Image ====> 1. brick-corner-1x2x2-part-2357.jpg\n",
      "Completed Image ====> 2. 235701.jpg\n",
      "Completed Image ====> 3. 235726.jpg\n",
      "Completed Image ====> 4. 6000880.jpg\n",
      "Completed Image ====> 5. 6212079.jpg\n",
      "Completed Image ====> 6. lego_brick_2_x_2_corner__2357__lego-bright-light-orange-brick-2-x-2-corner-2357-27-682375-43.jpg\n",
      "Completed Image ====> 7. 235724.jpg\n",
      "Completed Image ====> 8. s-l300.jpg\n",
      "Completed Image ====> 9. s-l300.jpg\n",
      "Completed Image ====> 10. s-l300.jpg\n",
      "Completed Image ====> 11. 61kcajcnb8l._sx425_.jpg\n",
      "Completed Image ====> 12. lego-bright-light-orange-plate-2-x-2-corner-2420-27-45054-43.jpg\n",
      "Completed Image ====> 13. 242021.jpg\n",
      "Completed Image ====> 14. s-l640.jpg\n",
      "Completed Image ====> 15. s-l300.jpg\n",
      "Completed Image ====> 16. 31050-1.jpg\n",
      "Completed Image ====> 17. mibha5y8qgjxs4tj5tyan-a.jpg\n",
      "Completed Image ====> 18. s-l300.jpg\n",
      "Completed Image ====> 19. s-l300.jpg\n",
      "Completed Image ====> 20. 6058329.jpg\n",
      "\n",
      "Errors: 0\n",
      "\n",
      "{'legoBrick Corner 1X2X2': ['/home/sean/Insight/legos/scraping/downloads/brick_corner_1x2x2/1. brick-corner-1x2x2-part-2357.jpg', '/home/sean/Insight/legos/scraping/downloads/brick_corner_1x2x2/2. 235701.jpg', '/home/sean/Insight/legos/scraping/downloads/brick_corner_1x2x2/3. 235726.jpg', '/home/sean/Insight/legos/scraping/downloads/brick_corner_1x2x2/4. 6000880.jpg', '/home/sean/Insight/legos/scraping/downloads/brick_corner_1x2x2/5. 6212079.jpg', '/home/sean/Insight/legos/scraping/downloads/brick_corner_1x2x2/6. lego_brick_2_x_2_corner__2357__lego-bright-light-orange-brick-2-x-2-corner-2357-27-682375-43.jpg', '/home/sean/Insight/legos/scraping/downloads/brick_corner_1x2x2/7. 235724.jpg', '/home/sean/Insight/legos/scraping/downloads/brick_corner_1x2x2/8. s-l300.jpg', '/home/sean/Insight/legos/scraping/downloads/brick_corner_1x2x2/9. s-l300.jpg', '/home/sean/Insight/legos/scraping/downloads/brick_corner_1x2x2/10. s-l300.jpg', '/home/sean/Insight/legos/scraping/downloads/brick_corner_1x2x2/11. 61kcajcnb8l._sx425_.jpg', '/home/sean/Insight/legos/scraping/downloads/brick_corner_1x2x2/12. lego-bright-light-orange-plate-2-x-2-corner-2420-27-45054-43.jpg', '/home/sean/Insight/legos/scraping/downloads/brick_corner_1x2x2/13. 242021.jpg', '/home/sean/Insight/legos/scraping/downloads/brick_corner_1x2x2/14. s-l640.jpg', '/home/sean/Insight/legos/scraping/downloads/brick_corner_1x2x2/15. s-l300.jpg', '/home/sean/Insight/legos/scraping/downloads/brick_corner_1x2x2/16. 31050-1.jpg', '/home/sean/Insight/legos/scraping/downloads/brick_corner_1x2x2/17. mibha5y8qgjxs4tj5tyan-a.jpg', '/home/sean/Insight/legos/scraping/downloads/brick_corner_1x2x2/18. s-l300.jpg', '/home/sean/Insight/legos/scraping/downloads/brick_corner_1x2x2/19. s-l300.jpg', '/home/sean/Insight/legos/scraping/downloads/brick_corner_1x2x2/20. 6058329.jpg']}\n",
      "\n",
      "\n",
      "\n",
      "Searching for  Radiator Grille 1X2 , storing in download directory  radiator_grille_1x2\n",
      "\n",
      "Item no.: 1 --> Item name = legoRadiator Grille 1X2\n",
      "Evaluating...\n",
      "Starting Download...\n",
      "Completed Image ====> 1. 4211350.jpg\n",
      "Completed Image ====> 2. lego-tile-1-x-2-with-grille-undetermined-2.jpg\n",
      "Completed Image ====> 3. s-l300.jpg\n",
      "Completed Image ====> 4. lego-white-tile-1-x-2-with-grille-undetermined-2-818425-92.jpg\n",
      "Completed Image ====> 5. lego-transparent-red-tile-1-x-2-with-grille-undetermined-2-818425-108.jpg\n",
      "Completed Image ====> 6. s-l300.jpg\n",
      "Completed Image ====> 7. 65441625.jpg\n",
      "Completed Image ====> 8. s-l300.jpg\n",
      "Completed Image ====> 9. 90951eda93c02010258776e683eae54e.jpg\n",
      "Completed Image ====> 10. s-l300.jpg\n",
      "Completed Image ====> 11. 416yssmbscl.jpg\n",
      "Completed Image ====> 12. new-lego-2412-silver-metal-radiator-grille-1x2-4619636_1.jpg\n",
      "Completed Image ====> 13. lego-dark-stone-gray-car-grille-1-x-2-x-2-round-top-with-lights-30147-2-45787-50.jpg\n",
      "Completed Image ====> 14. lego-orange-tile-1-x-2-with-grille-undetermined-2-818425-80.jpg\n",
      "Completed Image ====> 15. s-l225.jpg\n",
      "Completed Image ====> 16. 2412b.png\n",
      "Completed Image ====> 17. s-l225.jpg\n",
      "Completed Image ====> 18. 3509.png\n",
      "Completed Image ====> 19. radiator_gril_preview_featured.jpg\n",
      "Completed Image ====> 20. 518-2djexol._sy355_.jpg\n",
      "\n",
      "Errors: 0\n",
      "\n",
      "{'legoRadiator Grille 1X2': ['/home/sean/Insight/legos/scraping/downloads/radiator_grille_1x2/1. 4211350.jpg', '/home/sean/Insight/legos/scraping/downloads/radiator_grille_1x2/2. lego-tile-1-x-2-with-grille-undetermined-2.jpg', '/home/sean/Insight/legos/scraping/downloads/radiator_grille_1x2/3. s-l300.jpg', '/home/sean/Insight/legos/scraping/downloads/radiator_grille_1x2/4. lego-white-tile-1-x-2-with-grille-undetermined-2-818425-92.jpg', '/home/sean/Insight/legos/scraping/downloads/radiator_grille_1x2/5. lego-transparent-red-tile-1-x-2-with-grille-undetermined-2-818425-108.jpg', '/home/sean/Insight/legos/scraping/downloads/radiator_grille_1x2/6. s-l300.jpg', '/home/sean/Insight/legos/scraping/downloads/radiator_grille_1x2/7. 65441625.jpg', '/home/sean/Insight/legos/scraping/downloads/radiator_grille_1x2/8. s-l300.jpg', '/home/sean/Insight/legos/scraping/downloads/radiator_grille_1x2/9. 90951eda93c02010258776e683eae54e.jpg', '/home/sean/Insight/legos/scraping/downloads/radiator_grille_1x2/10. s-l300.jpg', '/home/sean/Insight/legos/scraping/downloads/radiator_grille_1x2/11. 416yssmbscl.jpg', '/home/sean/Insight/legos/scraping/downloads/radiator_grille_1x2/12. new-lego-2412-silver-metal-radiator-grille-1x2-4619636_1.jpg', '/home/sean/Insight/legos/scraping/downloads/radiator_grille_1x2/13. lego-dark-stone-gray-car-grille-1-x-2-x-2-round-top-with-lights-30147-2-45787-50.jpg', '/home/sean/Insight/legos/scraping/downloads/radiator_grille_1x2/14. lego-orange-tile-1-x-2-with-grille-undetermined-2-818425-80.jpg', '/home/sean/Insight/legos/scraping/downloads/radiator_grille_1x2/15. s-l225.jpg', '/home/sean/Insight/legos/scraping/downloads/radiator_grille_1x2/16. 2412b.png', '/home/sean/Insight/legos/scraping/downloads/radiator_grille_1x2/17. s-l225.jpg', '/home/sean/Insight/legos/scraping/downloads/radiator_grille_1x2/18. 3509.png', '/home/sean/Insight/legos/scraping/downloads/radiator_grille_1x2/19. radiator_gril_preview_featured.jpg', '/home/sean/Insight/legos/scraping/downloads/radiator_grille_1x2/20. 518-2djexol._sy355_.jpg']}\n",
      "\n",
      "\n",
      "\n",
      "Searching for  Corner Plate 1X2X2 , storing in download directory  corner_plate_1x2x2\n",
      "\n",
      "Item no.: 1 --> Item name = legoCorner Plate 1X2X2\n",
      "Evaluating...\n",
      "Starting Download...\n",
      "Completed Image ====> 1. 242026.jpg\n",
      "Completed Image ====> 2. 242001.jpg\n",
      "Completed Image ====> 3. 242024.jpg\n",
      "Completed Image ====> 4. s-l300.jpg\n",
      "Completed Image ====> 5. 2420.png\n",
      "Completed Image ====> 6. s-l300.jpg\n",
      "Completed Image ====> 7. lego-4211353-2420-job-lot-4x-light-blueish-grey-md-stone-medium-standard-grey-1x2x2-corner-plate_3.jpg\n",
      "Completed Image ====> 8. 61kcajcnb8l._sx425_.jpg\n",
      "Completed Image ====> 9. s-l1600.jpg\n",
      "Completed Image ====> 10. lego-242026-2420-1x-black-1x2x2-corner-plate_1.jpg\n",
      "Completed Image ====> 11. s-l300.jpg\n",
      "Completed Image ====> 12. s-l300.jpg\n",
      "Completed Image ====> 13. s-l1600.jpg\n",
      "Completed Image ====> 14. s-l300.jpg\n",
      "Completed Image ====> 15. s-l300.jpg\n",
      "Completed Image ====> 16. s-l300.jpg\n",
      "Completed Image ====> 17. lego-red-1x2x2-corner-plate-1x2x2-wall-new.jpg\n",
      "Completed Image ====> 18. s-l300.jpg\n",
      "Completed Image ====> 19. s-l300.jpg\n",
      "Completed Image ====> 20. s-l300.jpg\n",
      "\n",
      "Errors: 0\n",
      "\n",
      "{'legoCorner Plate 1X2X2': ['/home/sean/Insight/legos/scraping/downloads/corner_plate_1x2x2/1. 242026.jpg', '/home/sean/Insight/legos/scraping/downloads/corner_plate_1x2x2/2. 242001.jpg', '/home/sean/Insight/legos/scraping/downloads/corner_plate_1x2x2/3. 242024.jpg', '/home/sean/Insight/legos/scraping/downloads/corner_plate_1x2x2/4. s-l300.jpg', '/home/sean/Insight/legos/scraping/downloads/corner_plate_1x2x2/5. 2420.png', '/home/sean/Insight/legos/scraping/downloads/corner_plate_1x2x2/6. s-l300.jpg', '/home/sean/Insight/legos/scraping/downloads/corner_plate_1x2x2/7. lego-4211353-2420-job-lot-4x-light-blueish-grey-md-stone-medium-standard-grey-1x2x2-corner-plate_3.jpg', '/home/sean/Insight/legos/scraping/downloads/corner_plate_1x2x2/8. 61kcajcnb8l._sx425_.jpg', '/home/sean/Insight/legos/scraping/downloads/corner_plate_1x2x2/9. s-l1600.jpg', '/home/sean/Insight/legos/scraping/downloads/corner_plate_1x2x2/10. lego-242026-2420-1x-black-1x2x2-corner-plate_1.jpg', '/home/sean/Insight/legos/scraping/downloads/corner_plate_1x2x2/11. s-l300.jpg', '/home/sean/Insight/legos/scraping/downloads/corner_plate_1x2x2/12. s-l300.jpg', '/home/sean/Insight/legos/scraping/downloads/corner_plate_1x2x2/13. s-l1600.jpg', '/home/sean/Insight/legos/scraping/downloads/corner_plate_1x2x2/14. s-l300.jpg', '/home/sean/Insight/legos/scraping/downloads/corner_plate_1x2x2/15. s-l300.jpg', '/home/sean/Insight/legos/scraping/downloads/corner_plate_1x2x2/16. s-l300.jpg', '/home/sean/Insight/legos/scraping/downloads/corner_plate_1x2x2/17. lego-red-1x2x2-corner-plate-1x2x2-wall-new.jpg', '/home/sean/Insight/legos/scraping/downloads/corner_plate_1x2x2/18. s-l300.jpg', '/home/sean/Insight/legos/scraping/downloads/corner_plate_1x2x2/19. s-l300.jpg', '/home/sean/Insight/legos/scraping/downloads/corner_plate_1x2x2/20. s-l300.jpg']}\n",
      "\n",
      "\n",
      "\n",
      "Searching for  Flat Tile 1X4 , storing in download directory  flat_tile_1x4\n",
      "\n",
      "Item no.: 1 --> Item name = legoFlat Tile 1X4\n",
      "Evaluating...\n",
      "Starting Download...\n",
      "Completed Image ====> 1. 4216356.jpg\n",
      "Completed Image ====> 2. 6103985.jpg\n",
      "Completed Image ====> 3. lego-tile-1-x-4-2431-35371-91143-30.jpg\n",
      "Completed Image ====> 4. flat-tile-1x4-part-2431.jpg\n",
      "Completed Image ====> 5. lego-4211053-2431-2x-dark-blueish-grey-dark-stone-dark-standard-grey-1x4-flat-tile_top_2.jpg\n",
      "Completed Image ====> 6. s-l225.jpg\n",
      "Completed Image ====> 7. 2431.png\n",
      "Completed Image ====> 8. 4536989.jpg\n",
      "Completed Image ====> 9. htb1lrjeixxxxxacxxxxq6xxfxxxh.jpg\n",
      "Completed Image ====> 10. lego-4164021-2431-1x-bright-yellow-green-1x4-flat-tile_bottom.jpg\n",
      "Completed Image ====> 11. new-lego-243126-2431-1x-black-1x4-flat-tile_2.jpg\n",
      "Completed Image ====> 12. 2431.png\n",
      "Completed Image ====> 13. 6151654.jpg\n",
      "Completed Image ====> 14. 4211053.jpg\n",
      "Completed Image ====> 15. s-l300.jpg\n",
      "Completed Image ====> 16. 2431.png\n",
      "Completed Image ====> 17. 4586557.jpg\n",
      "Completed Image ====> 18. lego-dark-green-tile-1-x-4-2431-2-853045-20.jpg\n",
      "Completed Image ====> 19. s-l300.jpg\n",
      "Completed Image ====> 20. 4590990.jpg\n",
      "\n",
      "Errors: 0\n",
      "\n",
      "{'legoFlat Tile 1X4': ['/home/sean/Insight/legos/scraping/downloads/flat_tile_1x4/1. 4216356.jpg', '/home/sean/Insight/legos/scraping/downloads/flat_tile_1x4/2. 6103985.jpg', '/home/sean/Insight/legos/scraping/downloads/flat_tile_1x4/3. lego-tile-1-x-4-2431-35371-91143-30.jpg', '/home/sean/Insight/legos/scraping/downloads/flat_tile_1x4/4. flat-tile-1x4-part-2431.jpg', '/home/sean/Insight/legos/scraping/downloads/flat_tile_1x4/5. lego-4211053-2431-2x-dark-blueish-grey-dark-stone-dark-standard-grey-1x4-flat-tile_top_2.jpg', '/home/sean/Insight/legos/scraping/downloads/flat_tile_1x4/6. s-l225.jpg', '/home/sean/Insight/legos/scraping/downloads/flat_tile_1x4/7. 2431.png', '/home/sean/Insight/legos/scraping/downloads/flat_tile_1x4/8. 4536989.jpg', '/home/sean/Insight/legos/scraping/downloads/flat_tile_1x4/9. htb1lrjeixxxxxacxxxxq6xxfxxxh.jpg', '/home/sean/Insight/legos/scraping/downloads/flat_tile_1x4/10. lego-4164021-2431-1x-bright-yellow-green-1x4-flat-tile_bottom.jpg', '/home/sean/Insight/legos/scraping/downloads/flat_tile_1x4/11. new-lego-243126-2431-1x-black-1x4-flat-tile_2.jpg', '/home/sean/Insight/legos/scraping/downloads/flat_tile_1x4/12. 2431.png', '/home/sean/Insight/legos/scraping/downloads/flat_tile_1x4/13. 6151654.jpg', '/home/sean/Insight/legos/scraping/downloads/flat_tile_1x4/14. 4211053.jpg', '/home/sean/Insight/legos/scraping/downloads/flat_tile_1x4/15. s-l300.jpg', '/home/sean/Insight/legos/scraping/downloads/flat_tile_1x4/16. 2431.png', '/home/sean/Insight/legos/scraping/downloads/flat_tile_1x4/17. 4586557.jpg', '/home/sean/Insight/legos/scraping/downloads/flat_tile_1x4/18. lego-dark-green-tile-1-x-4-2431-2-853045-20.jpg', '/home/sean/Insight/legos/scraping/downloads/flat_tile_1x4/19. s-l300.jpg', '/home/sean/Insight/legos/scraping/downloads/flat_tile_1x4/20. 4590990.jpg']}\n",
      "\n",
      "\n",
      "\n",
      "Searching for  Plate 2X12 , storing in download directory  plate_2x12\n",
      "\n",
      "Item no.: 1 --> Item name = legoPlate 2X12\n",
      "Evaluating...\n",
      "Starting Download...\n",
      "Completed Image ====> 1. lego-medium-stone-gray-plate-2-x-12-2445-30-144676-64.jpg\n",
      "Completed Image ====> 2. lego-spare-parts-plates-2x12-white.jpg\n",
      "Completed Image ====> 3. 2445.png\n",
      "Completed Image ====> 4. 106509891.jpg\n",
      "URLError on an image...trying next one... Error: <urlopen error ('_ssl.c:645: The handshake operation timed out',)>\n",
      "Completed Image ====> 5. s-l225.jpg\n",
      "Completed Image ====> 6. 449356422.jpg\n",
      "Completed Image ====> 7. 090951ff02e4c7f75e189396b7741791--lego-plates.jpg\n",
      "Completed Image ====> 8. mjwezc55a9mxrsdpmi5cgha.jpg\n",
      "Completed Image ====> 9. lego-spare-parts-plates-2x2-white.jpg\n",
      "Completed Image ====> 10. s-l225.jpg\n",
      "Completed Image ====> 11. mepjsrcusjrfvifkb9m4ydq.jpg\n",
      "Completed Image ====> 12. s-l225.jpg\n",
      "Completed Image ====> 13. s-l225.jpg\n",
      "Completed Image ====> 14. s-l225.jpg\n",
      "Completed Image ====> 15. s-l225.jpg\n",
      "Completed Image ====> 16. lego-plate-2x12.jpg\n",
      "Completed Image ====> 17. s-l225.jpg\n",
      "Completed Image ====> 18. s-l300.jpg\n",
      "Completed Image ====> 19. s-l225.jpg\n",
      "Completed Image ====> 20. lego-plate-2x12.jpg\n",
      "\n",
      "Errors: 1\n",
      "\n",
      "{'legoPlate 2X12': ['/home/sean/Insight/legos/scraping/downloads/plate_2x12/1. lego-medium-stone-gray-plate-2-x-12-2445-30-144676-64.jpg', '/home/sean/Insight/legos/scraping/downloads/plate_2x12/2. lego-spare-parts-plates-2x12-white.jpg', '/home/sean/Insight/legos/scraping/downloads/plate_2x12/3. 2445.png', '/home/sean/Insight/legos/scraping/downloads/plate_2x12/4. 106509891.jpg', '/home/sean/Insight/legos/scraping/downloads/plate_2x12/5. s-l225.jpg', '/home/sean/Insight/legos/scraping/downloads/plate_2x12/6. 449356422.jpg', '/home/sean/Insight/legos/scraping/downloads/plate_2x12/7. 090951ff02e4c7f75e189396b7741791--lego-plates.jpg', '/home/sean/Insight/legos/scraping/downloads/plate_2x12/8. mjwezc55a9mxrsdpmi5cgha.jpg', '/home/sean/Insight/legos/scraping/downloads/plate_2x12/9. lego-spare-parts-plates-2x2-white.jpg', '/home/sean/Insight/legos/scraping/downloads/plate_2x12/10. s-l225.jpg', '/home/sean/Insight/legos/scraping/downloads/plate_2x12/11. mepjsrcusjrfvifkb9m4ydq.jpg', '/home/sean/Insight/legos/scraping/downloads/plate_2x12/12. s-l225.jpg', '/home/sean/Insight/legos/scraping/downloads/plate_2x12/13. s-l225.jpg', '/home/sean/Insight/legos/scraping/downloads/plate_2x12/14. s-l225.jpg', '/home/sean/Insight/legos/scraping/downloads/plate_2x12/15. s-l225.jpg', '/home/sean/Insight/legos/scraping/downloads/plate_2x12/16. lego-plate-2x12.jpg', '/home/sean/Insight/legos/scraping/downloads/plate_2x12/17. s-l225.jpg', '/home/sean/Insight/legos/scraping/downloads/plate_2x12/18. s-l300.jpg', '/home/sean/Insight/legos/scraping/downloads/plate_2x12/19. s-l225.jpg', '/home/sean/Insight/legos/scraping/downloads/plate_2x12/20. lego-plate-2x12.jpg']}\n",
      "\n",
      "\n",
      "\n"
     ]
    }
   ],
   "source": [
    "for kw, dr in zip( keyword_list, dir_list ): \n",
    "\n",
    "    print 'Searching for ',kw,', storing in download directory ', dr\n",
    "    arguments = base_args.copy()\n",
    "    arguments['keywords']        = 'lego'+kw\n",
    "    arguments['image_directory'] = dr\n",
    "    \n",
    "    paths = response.download(arguments)   #passing the arguments to the function\n",
    "\n",
    "    print(paths)   #printing absolute paths of the downloaded images\n",
    "    \n",
    "    print '\\n\\n'"
   ]
  },
  {
   "cell_type": "code",
   "execution_count": null,
   "metadata": {
    "collapsed": true
   },
   "outputs": [],
   "source": []
  }
 ],
 "metadata": {
  "kernelspec": {
   "display_name": "Python 2",
   "language": "python",
   "name": "python2"
  },
  "language_info": {
   "codemirror_mode": {
    "name": "ipython",
    "version": 2
   },
   "file_extension": ".py",
   "mimetype": "text/x-python",
   "name": "python",
   "nbconvert_exporter": "python",
   "pygments_lexer": "ipython2",
   "version": "2.7.13"
  }
 },
 "nbformat": 4,
 "nbformat_minor": 2
}
