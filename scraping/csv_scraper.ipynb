{
 "cells": [
  {
   "cell_type": "code",
   "execution_count": 19,
   "metadata": {
    "collapsed": true
   },
   "outputs": [],
   "source": [
    "import os\n",
    "import requests\n",
    "import time"
   ]
  },
  {
   "cell_type": "code",
   "execution_count": 20,
   "metadata": {
    "collapsed": true
   },
   "outputs": [],
   "source": [
    "out_directory = 'set_csvs/'\n",
    "sleep_time_ms = 100"
   ]
  },
  {
   "cell_type": "code",
   "execution_count": 23,
   "metadata": {
    "collapsed": false
   },
   "outputs": [],
   "source": [
    "input_set_file = '../set_id_numbers.txt'\n",
    "input_set_numbers = []\n",
    "\n",
    "with open(input_set_file,'r') as f:\n",
    "    for row in f:\n",
    "        input_set_numbers.append( str(int(row)) )\n",
    "input_set_numbers = list( set( input_set_numbers ) )"
   ]
  },
  {
   "cell_type": "code",
   "execution_count": 3,
   "metadata": {
    "collapsed": true
   },
   "outputs": [],
   "source": [
    "set_id = '8630-1'"
   ]
  },
  {
   "cell_type": "code",
   "execution_count": 31,
   "metadata": {
    "collapsed": false,
    "scrolled": false
   },
   "outputs": [
    {
     "name": "stdout",
     "output_type": "stream",
     "text": [
      "set_csvs/7045.csv exists\n",
      "set_csvs/7044.csv exists\n"
     ]
    }
   ],
   "source": [
    "for lego_set in input_set_numbers[:5]:\n",
    "    url      = 'https://brickset.com/exportscripts/inventory/' + lego_set + '-1'\n",
    "    out_file = out_directory + lego_set + '.csv'\n",
    "    \n",
    "    if not os.path.isfile( out_file ):\n",
    "        response = requests.get(url)\n",
    "        time.sleep(1)\n",
    "    \n",
    "        # If there is stuff in the csv, will be > 100 (header)\n",
    "        if len( response.content ) > 100:\n",
    "            with open( out_file, 'w' ) as out_file:\n",
    "                out_file.write( response.content )\n",
    "        else:\n",
    "            print out_file + ' does not have a filled csv file'\n",
    "    else:\n",
    "        print out_file + ' exists'\n"
   ]
  },
  {
   "cell_type": "code",
   "execution_count": null,
   "metadata": {
    "collapsed": true
   },
   "outputs": [],
   "source": []
  }
 ],
 "metadata": {
  "kernelspec": {
   "display_name": "Python 2",
   "language": "python",
   "name": "python2"
  },
  "language_info": {
   "codemirror_mode": {
    "name": "ipython",
    "version": 2
   },
   "file_extension": ".py",
   "mimetype": "text/x-python",
   "name": "python",
   "nbconvert_exporter": "python",
   "pygments_lexer": "ipython2",
   "version": "2.7.13"
  }
 },
 "nbformat": 4,
 "nbformat_minor": 2
}
