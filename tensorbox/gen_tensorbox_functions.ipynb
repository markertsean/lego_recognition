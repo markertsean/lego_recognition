{
 "cells": [
  {
   "cell_type": "code",
   "execution_count": 1,
   "metadata": {
    "collapsed": true
   },
   "outputs": [],
   "source": [
    "import pred_location as pl"
   ]
  },
  {
   "cell_type": "code",
   "execution_count": null,
   "metadata": {
    "collapsed": true
   },
   "outputs": [],
   "source": []
  },
  {
   "cell_type": "code",
   "execution_count": 1,
   "metadata": {
    "collapsed": true
   },
   "outputs": [],
   "source": [
    "import locate_object as lo\n",
    "import os\n",
    "import json\n",
    "import subprocess\n",
    "\n",
    "from tensorbox_model import TensorBox\n",
    "\n",
    "import tensorflow as tf\n",
    "\n",
    "import train"
   ]
  },
  {
   "cell_type": "code",
   "execution_count": null,
   "metadata": {
    "collapsed": true
   },
   "outputs": [],
   "source": []
  },
  {
   "cell_type": "code",
   "execution_count": null,
   "metadata": {
    "collapsed": true
   },
   "outputs": [],
   "source": []
  },
  {
   "cell_type": "code",
   "execution_count": 2,
   "metadata": {
    "collapsed": true
   },
   "outputs": [],
   "source": [
    "_json_format = '[\\n{\\n\"rects\": [\\n  {\\n   \"y1\": 100.0,\\n   \"x2\":  150.0,\\n   \"x1\":  100.0,\\n   \"y2\": 150.0\\n  }\\n ],\\n \"image_path\": \"%s\"\\n}\\n]\\n'\n",
    "_json_format2= '[\\n{\\n\"rects\": [\\n  {\\n   \"y1\": 100.0,\\n   \"x2\":  150.0,\\n   \"x1\":  100.0,\\n   \"y2\": 150.0\\n  }\\n ],\\n \"image_path\": \"%s\"\\n},'+\\\n",
    "                '\\n{\\n\"rects\": [\\n  {\\n   \"y1\": 200.0,\\n   \"x2\":  250.0,\\n   \"x1\":  200.0,\\n   \"y2\": 250.0\\n  }\\n ],\\n \"image_path\": \"%s\"\\n}\\n]\\n'\n",
    "\n",
    "def _generate_json( inp_file_path ):\n",
    "    \n",
    "    with open('sample.json','w') as f:\n",
    "#        f.write( _json_format % inp_file_path )\n",
    "        f.write( _json_format2 % (inp_file_path,inp_file_path) )\n",
    "        \n",
    "def get_rect( inp_file_name ):\n",
    "\n",
    "    _generate_json( inp_file_name )\n",
    "    \n",
    "    _weights    = 'nn_model/save.ckpt-5000'\n",
    "    _test_boxes = 'sample.json'\n",
    "    _min_conf   = 0.2\n",
    "    _tau        = 0.25\n",
    "    _show_supp  = True\n",
    "    _iou_thresh = 0.5\n",
    "    \n",
    "    os.environ['CUDA_VISIBLE_DEVICES'] = str(0)\n",
    "    hypes_file = '%s/hypes.json' % os.path.dirname( _weights )\n",
    "    with open(hypes_file, 'r') as f:\n",
    "        H = json.load(f)\n",
    "    expname = ''\n",
    "    pred_boxes = '%s.%s%s' % ( _weights, expname, os.path.basename( _test_boxes))\n",
    "    true_boxes = '%s.gt_%s%s' % ( _weights, expname, os.path.basename( _test_boxes))\n",
    "\n",
    "    \n",
    "    tensorbox = TensorBox(H)\n",
    "    rect_list = tensorbox.pred( _weights,\n",
    "                                                   _test_boxes,\n",
    "                                                   _min_conf,\n",
    "                                                   _tau,\n",
    "                                                   _show_supp,\n",
    "                                                  expname)\n",
    "\n",
    "    print rect_list\n"
   ]
  },
  {
   "cell_type": "code",
   "execution_count": 3,
   "metadata": {
    "collapsed": true
   },
   "outputs": [],
   "source": [
    "obj_dir  = '/home/sean/Insight/legos/tensorbox/'\n",
    "img_name = 'sample_lego_brick_2.jpg'"
   ]
  },
  {
   "cell_type": "code",
   "execution_count": 4,
   "metadata": {
    "collapsed": false,
    "scrolled": false
   },
   "outputs": [
    {
     "name": "stdout",
     "output_type": "stream",
     "text": [
      "INFO:tensorflow:Restoring parameters from nn_model/save.ckpt-5000\n"
     ]
    },
    {
     "name": "stderr",
     "output_type": "stream",
     "text": [
      "/home/sean/anaconda/lib/python2.7/site-packages/scipy/misc/pilutil.py:482: FutureWarning: Conversion of the second argument of issubdtype from `int` to `np.signedinteger` is deprecated. In future, it will be treated as `np.int64 == np.dtype(int).type`.\n",
      "  if issubdtype(ts, int):\n",
      "/home/sean/anaconda/lib/python2.7/site-packages/scipy/misc/pilutil.py:485: FutureWarning: Conversion of the second argument of issubdtype from `float` to `np.floating` is deprecated. In future, it will be treated as `np.float64 == np.dtype(float).type`.\n",
      "  elif issubdtype(type(size), float):\n"
     ]
    },
    {
     "name": "stdout",
     "output_type": "stream",
     "text": [
      "train_utils 2\n",
      "train_utils again 1\n",
      "tb model  1\n",
      "0\n",
      "/home/sean/Insight/legos/tensorbox/sample_lego_brick_2.jpg\n",
      "train_utils 2\n",
      "train_utils again 1\n",
      "tb model  1\n",
      "/home/sean/Insight/legos/tensorbox/sample_lego_brick_2.jpg\n",
      "[{'x_min': 0.21884765625, 'y_max': 0.846875, 'y_min': 0.096875, 'x_max': 0.78662109375}, {'x_min': 0.21884765625, 'y_max': 0.846875, 'y_min': 0.096875, 'x_max': 0.78662109375}]\n"
     ]
    }
   ],
   "source": [
    "tf.reset_default_graph()\n",
    "get_rect( obj_dir+img_name )"
   ]
  },
  {
   "cell_type": "code",
   "execution_count": null,
   "metadata": {
    "collapsed": true
   },
   "outputs": [],
   "source": []
  },
  {
   "cell_type": "code",
   "execution_count": null,
   "metadata": {
    "collapsed": true
   },
   "outputs": [],
   "source": []
  },
  {
   "cell_type": "code",
   "execution_count": 1,
   "metadata": {
    "collapsed": true
   },
   "outputs": [],
   "source": [
    "# New tensorbox libraries\n",
    "import tensorflow as tf\n",
    "import os, json, subprocess, random\n",
    "from optparse import OptionParser\n",
    "from os import path\n",
    "\n",
    "from scipy.misc import imread, imresize, imsave\n",
    "import numpy as np\n",
    "from PIL import Image, ImageDraw\n",
    "\n",
    "from train import build_forward\n",
    "from utils.annolist import AnnotationLib as al\n",
    "from utils.train_utils import add_rectangles, rescale_boxes\n",
    "from utils.data_utils import Rotate90"
   ]
  },
  {
   "cell_type": "code",
   "execution_count": null,
   "metadata": {
    "collapsed": true
   },
   "outputs": [],
   "source": [
    "\n",
    "_weights_full_path = '/home/sean/Insight/other_tensorbox/TensorBox/lego_train/overfeat_rezoom_2018_06_14_09.20/save.ckpt-1500'\n",
    "_hypes_full_path   = '/home/sean/Insight/tensorbox/hypes/hypes.json'\n",
    "\n",
    "def new_main( inp_image_path ):\n",
    "    \n",
    "    image_filename = inp_image_path\n",
    "    hypes_path     = _hypes_full_path\n",
    "    weights_path   = _weights_full_path\n",
    "\n",
    "    parser = OptionParser(usage='usage: %prog [options] <image> <hypes>')\n",
    "    parser.add_option('--gpu', action='store', type='int', default=0)\n",
    "    parser.add_option('--tau', action='store', type='float', default=0.25)\n",
    "    parser.add_option('--min_conf', action='store', type='float', default=0.2)\n",
    "\n",
    "    (options, args) = parser.parse_args()\n",
    "    if len(args) < 2:\n",
    "        print ('Provide path configuration json file')\n",
    "        return\n",
    "\n",
    "    config = json.load(open(hypes_path, 'r'))\n",
    "    \n",
    "    \n",
    "    \n",
    "    init_params = initialize(weights_path, hypes_path, options)\n",
    "    init_params['pred_options'] = {'verbose': True}\n",
    "#    pred_anno = hot_predict(image_filename, init_params)\n",
    "#    save_results(image_filename, pred_anno, 'predictions_sliced')"
   ]
  }
 ],
 "metadata": {
  "kernelspec": {
   "display_name": "Python 2",
   "language": "python",
   "name": "python2"
  },
  "language_info": {
   "codemirror_mode": {
    "name": "ipython",
    "version": 2
   },
   "file_extension": ".py",
   "mimetype": "text/x-python",
   "name": "python",
   "nbconvert_exporter": "python",
   "pygments_lexer": "ipython2",
   "version": "2.7.13"
  }
 },
 "nbformat": 4,
 "nbformat_minor": 2
}
